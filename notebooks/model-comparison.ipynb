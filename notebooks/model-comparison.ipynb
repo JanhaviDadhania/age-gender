{
 "cells": [
  {
   "cell_type": "code",
   "execution_count": 2,
   "source": [
    "%cd ../"
   ],
   "outputs": [
    {
     "output_type": "stream",
     "name": "stdout",
     "text": [
      "/home/tk/repos/age-gender\n"
     ]
    }
   ],
   "metadata": {}
  },
  {
   "cell_type": "code",
   "execution_count": 1,
   "source": [
    "from model.model import ResMLP\n",
    "from pprint import pprint\n",
    "import json\n",
    "\n",
    "def read_json(path):\n",
    "    with open(path, 'r') as stream:\n",
    "        loaded = json.load(stream)\n",
    "    return loaded"
   ],
   "outputs": [
    {
     "output_type": "error",
     "ename": "ModuleNotFoundError",
     "evalue": "No module named 'model'",
     "traceback": [
      "\u001b[0;31m---------------------------------------------------------------------------\u001b[0m",
      "\u001b[0;31mModuleNotFoundError\u001b[0m                       Traceback (most recent call last)",
      "\u001b[0;32m<ipython-input-1-2325fee648da>\u001b[0m in \u001b[0;36m<module>\u001b[0;34m\u001b[0m\n\u001b[0;32m----> 1\u001b[0;31m \u001b[0;32mfrom\u001b[0m \u001b[0mmodel\u001b[0m\u001b[0;34m.\u001b[0m\u001b[0mmodel\u001b[0m \u001b[0;32mimport\u001b[0m \u001b[0mResMLP\u001b[0m\u001b[0;34m\u001b[0m\u001b[0;34m\u001b[0m\u001b[0m\n\u001b[0m\u001b[1;32m      2\u001b[0m \u001b[0;32mfrom\u001b[0m \u001b[0mpprint\u001b[0m \u001b[0;32mimport\u001b[0m \u001b[0mpprint\u001b[0m\u001b[0;34m\u001b[0m\u001b[0;34m\u001b[0m\u001b[0m\n\u001b[1;32m      3\u001b[0m \u001b[0;32mimport\u001b[0m \u001b[0mjson\u001b[0m\u001b[0;34m\u001b[0m\u001b[0;34m\u001b[0m\u001b[0m\n\u001b[1;32m      4\u001b[0m \u001b[0;34m\u001b[0m\u001b[0m\n\u001b[1;32m      5\u001b[0m \u001b[0;32mdef\u001b[0m \u001b[0mread_json\u001b[0m\u001b[0;34m(\u001b[0m\u001b[0mpath\u001b[0m\u001b[0;34m)\u001b[0m\u001b[0;34m:\u001b[0m\u001b[0;34m\u001b[0m\u001b[0;34m\u001b[0m\u001b[0m\n",
      "\u001b[0;31mModuleNotFoundError\u001b[0m: No module named 'model'"
     ]
    }
   ],
   "metadata": {}
  },
  {
   "cell_type": "markdown",
   "source": [
    "## MLP with IC, 2 class gender"
   ],
   "metadata": {}
  },
  {
   "cell_type": "code",
   "execution_count": 2,
   "source": [
    "config_path = './training-results/models/ResMLP/0721_112606/config.json'\n",
    "config = read_json(config_path)\n",
    "\n",
    "model = ResMLP(**config['arch']['args'])\n",
    "pprint(sum(p.numel() for p in model.parameters()))\n",
    "pprint(config['arch']['args'])\n",
    "model"
   ],
   "outputs": [
    {
     "output_type": "stream",
     "name": "stdout",
     "text": [
      "1713922\n",
      "{'dropout': 0.5,\n",
      " 'last_activation': None,\n",
      " 'max_bound': None,\n",
      " 'min_bound': None,\n",
      " 'num_blocks': 1,\n",
      " 'num_classes': 2,\n",
      " 'num_initial_features': 512,\n",
      " 'num_residuals_per_block': 3,\n",
      " 'only_MLP': False}\n"
     ]
    },
    {
     "output_type": "execute_result",
     "data": {
      "text/plain": [
       "ResMLP(\n",
       "  (blocks): Sequential(\n",
       "    (0): Residual(\n",
       "      (linear1): Linear(in_features=512, out_features=512, bias=True)\n",
       "      (relu1): ReLU()\n",
       "      (norm_layer2): BatchNorm1d(512, eps=1e-05, momentum=0.1, affine=True, track_running_stats=True)\n",
       "      (dropout2): Dropout(p=0.5, inplace=False)\n",
       "      (linear2): Linear(in_features=512, out_features=512, bias=True)\n",
       "      (relu2): ReLU()\n",
       "    )\n",
       "    (1): Residual(\n",
       "      (norm_layer1): BatchNorm1d(512, eps=1e-05, momentum=0.1, affine=True, track_running_stats=True)\n",
       "      (dropout1): Dropout(p=0.5, inplace=False)\n",
       "      (linear1): Linear(in_features=512, out_features=512, bias=True)\n",
       "      (relu1): ReLU()\n",
       "      (norm_layer2): BatchNorm1d(512, eps=1e-05, momentum=0.1, affine=True, track_running_stats=True)\n",
       "      (dropout2): Dropout(p=0.5, inplace=False)\n",
       "      (linear2): Linear(in_features=512, out_features=512, bias=True)\n",
       "      (relu2): ReLU()\n",
       "    )\n",
       "    (2): Residual(\n",
       "      (norm_layer1): BatchNorm1d(512, eps=1e-05, momentum=0.1, affine=True, track_running_stats=True)\n",
       "      (dropout1): Dropout(p=0.5, inplace=False)\n",
       "      (linear1): Linear(in_features=512, out_features=512, bias=True)\n",
       "      (relu1): ReLU()\n",
       "      (norm_layer2): BatchNorm1d(512, eps=1e-05, momentum=0.1, affine=True, track_running_stats=True)\n",
       "      (dropout2): Dropout(p=0.5, inplace=False)\n",
       "      (linear2): Linear(in_features=512, out_features=512, bias=True)\n",
       "      (relu2): ReLU()\n",
       "    )\n",
       "    (3): DownSample(\n",
       "      (norm_layer): BatchNorm1d(512, eps=1e-05, momentum=0.1, affine=True, track_running_stats=True)\n",
       "      (dropout): Dropout(p=0.5, inplace=False)\n",
       "      (linear): Linear(in_features=512, out_features=256, bias=True)\n",
       "      (relu): ReLU()\n",
       "    )\n",
       "    (4): Linear(in_features=256, out_features=2, bias=True)\n",
       "  )\n",
       ")"
      ]
     },
     "metadata": {},
     "execution_count": 2
    }
   ],
   "metadata": {}
  },
  {
   "cell_type": "markdown",
   "source": [
    "## plain MLP, 2 class gender"
   ],
   "metadata": {}
  },
  {
   "cell_type": "code",
   "execution_count": 3,
   "source": [
    "config_path = './training-results/models/ResMLP/0722_211202/config.json'\n",
    "config = read_json(config_path)\n",
    "\n",
    "model = ResMLP(**config['arch']['args'])\n",
    "pprint(sum(p.numel() for p in model.parameters()))\n",
    "pprint(config['arch']['args'])\n",
    "model"
   ],
   "outputs": [
    {
     "output_type": "stream",
     "name": "stdout",
     "text": [
      "872866\n",
      "{'dropout': 0,\n",
      " 'last_activation': None,\n",
      " 'max_bound': None,\n",
      " 'min_bound': None,\n",
      " 'num_blocks': 4,\n",
      " 'num_classes': 2,\n",
      " 'num_initial_features': 512,\n",
      " 'num_residuals_per_block': 1,\n",
      " 'only_MLP': True}\n"
     ]
    },
    {
     "output_type": "execute_result",
     "data": {
      "text/plain": [
       "ResMLP(\n",
       "  (blocks): Sequential(\n",
       "    (0): Residual(\n",
       "      (linear1): Linear(in_features=512, out_features=512, bias=True)\n",
       "      (relu1): ReLU()\n",
       "      (linear2): Linear(in_features=512, out_features=512, bias=True)\n",
       "      (relu2): ReLU()\n",
       "    )\n",
       "    (1): DownSample(\n",
       "      (linear): Linear(in_features=512, out_features=256, bias=True)\n",
       "      (relu): ReLU()\n",
       "    )\n",
       "    (2): Residual(\n",
       "      (linear1): Linear(in_features=256, out_features=256, bias=True)\n",
       "      (relu1): ReLU()\n",
       "      (linear2): Linear(in_features=256, out_features=256, bias=True)\n",
       "      (relu2): ReLU()\n",
       "    )\n",
       "    (3): DownSample(\n",
       "      (linear): Linear(in_features=256, out_features=128, bias=True)\n",
       "      (relu): ReLU()\n",
       "    )\n",
       "    (4): Residual(\n",
       "      (linear1): Linear(in_features=128, out_features=128, bias=True)\n",
       "      (relu1): ReLU()\n",
       "      (linear2): Linear(in_features=128, out_features=128, bias=True)\n",
       "      (relu2): ReLU()\n",
       "    )\n",
       "    (5): DownSample(\n",
       "      (linear): Linear(in_features=128, out_features=64, bias=True)\n",
       "      (relu): ReLU()\n",
       "    )\n",
       "    (6): Residual(\n",
       "      (linear1): Linear(in_features=64, out_features=64, bias=True)\n",
       "      (relu1): ReLU()\n",
       "      (linear2): Linear(in_features=64, out_features=64, bias=True)\n",
       "      (relu2): ReLU()\n",
       "    )\n",
       "    (7): DownSample(\n",
       "      (linear): Linear(in_features=64, out_features=32, bias=True)\n",
       "      (relu): ReLU()\n",
       "    )\n",
       "    (8): Linear(in_features=32, out_features=2, bias=True)\n",
       "  )\n",
       ")"
      ]
     },
     "metadata": {},
     "execution_count": 3
    }
   ],
   "metadata": {
    "tags": []
   }
  },
  {
   "cell_type": "markdown",
   "source": [
    "## MLP with IC, 8 class age"
   ],
   "metadata": {}
  },
  {
   "cell_type": "code",
   "execution_count": 4,
   "source": [
    "config_path = './training-results/models/ResMLP/0721_145736/config.json'\n",
    "config = read_json(config_path)\n",
    "\n",
    "model = ResMLP(**config['arch']['args'])\n",
    "pprint(sum(p.numel() for p in model.parameters()))\n",
    "pprint(config['arch']['args'])\n",
    "model"
   ],
   "outputs": [
    {
     "output_type": "stream",
     "name": "stdout",
     "text": [
      "2242824\n",
      "{'dropout': 0.2,\n",
      " 'last_activation': None,\n",
      " 'max_bound': None,\n",
      " 'min_bound': None,\n",
      " 'num_blocks': 0,\n",
      " 'num_classes': 8,\n",
      " 'num_initial_features': 512,\n",
      " 'num_residuals_per_block': 4,\n",
      " 'only_MLP': False}\n"
     ]
    },
    {
     "output_type": "execute_result",
     "data": {
      "text/plain": [
       "ResMLP(\n",
       "  (blocks): Sequential(\n",
       "    (0): Residual(\n",
       "      (linear1): Linear(in_features=512, out_features=512, bias=True)\n",
       "      (relu1): ReLU()\n",
       "      (norm_layer2): BatchNorm1d(512, eps=1e-05, momentum=0.1, affine=True, track_running_stats=True)\n",
       "      (dropout2): Dropout(p=0.2, inplace=False)\n",
       "      (linear2): Linear(in_features=512, out_features=512, bias=True)\n",
       "      (relu2): ReLU()\n",
       "    )\n",
       "    (1): Residual(\n",
       "      (norm_layer1): BatchNorm1d(512, eps=1e-05, momentum=0.1, affine=True, track_running_stats=True)\n",
       "      (dropout1): Dropout(p=0.2, inplace=False)\n",
       "      (linear1): Linear(in_features=512, out_features=512, bias=True)\n",
       "      (relu1): ReLU()\n",
       "      (norm_layer2): BatchNorm1d(512, eps=1e-05, momentum=0.1, affine=True, track_running_stats=True)\n",
       "      (dropout2): Dropout(p=0.2, inplace=False)\n",
       "      (linear2): Linear(in_features=512, out_features=512, bias=True)\n",
       "      (relu2): ReLU()\n",
       "    )\n",
       "    (2): Residual(\n",
       "      (norm_layer1): BatchNorm1d(512, eps=1e-05, momentum=0.1, affine=True, track_running_stats=True)\n",
       "      (dropout1): Dropout(p=0.2, inplace=False)\n",
       "      (linear1): Linear(in_features=512, out_features=512, bias=True)\n",
       "      (relu1): ReLU()\n",
       "      (norm_layer2): BatchNorm1d(512, eps=1e-05, momentum=0.1, affine=True, track_running_stats=True)\n",
       "      (dropout2): Dropout(p=0.2, inplace=False)\n",
       "      (linear2): Linear(in_features=512, out_features=512, bias=True)\n",
       "      (relu2): ReLU()\n",
       "    )\n",
       "    (3): Residual(\n",
       "      (norm_layer1): BatchNorm1d(512, eps=1e-05, momentum=0.1, affine=True, track_running_stats=True)\n",
       "      (dropout1): Dropout(p=0.2, inplace=False)\n",
       "      (linear1): Linear(in_features=512, out_features=512, bias=True)\n",
       "      (relu1): ReLU()\n",
       "      (norm_layer2): BatchNorm1d(512, eps=1e-05, momentum=0.1, affine=True, track_running_stats=True)\n",
       "      (dropout2): Dropout(p=0.2, inplace=False)\n",
       "      (linear2): Linear(in_features=512, out_features=512, bias=True)\n",
       "      (relu2): ReLU()\n",
       "    )\n",
       "    (4): DownSample(\n",
       "      (norm_layer): BatchNorm1d(512, eps=1e-05, momentum=0.1, affine=True, track_running_stats=True)\n",
       "      (dropout): Dropout(p=0.2, inplace=False)\n",
       "      (linear): Linear(in_features=512, out_features=256, bias=True)\n",
       "      (relu): ReLU()\n",
       "    )\n",
       "    (5): Linear(in_features=256, out_features=8, bias=True)\n",
       "  )\n",
       ")"
      ]
     },
     "metadata": {},
     "execution_count": 4
    }
   ],
   "metadata": {
    "tags": []
   }
  },
  {
   "cell_type": "markdown",
   "source": [
    "## plain MLP, 8 class age"
   ],
   "metadata": {}
  },
  {
   "cell_type": "code",
   "execution_count": 5,
   "source": [
    "config_path = './training-results/models/ResMLP/0722_230719/config.json'\n",
    "config = read_json(config_path)\n",
    "\n",
    "model = ResMLP(**config['arch']['args'])\n",
    "pprint(sum(p.numel() for p in model.parameters()))\n",
    "pprint(config['arch']['args'])\n",
    "model"
   ],
   "outputs": [
    {
     "output_type": "stream",
     "name": "stdout",
     "text": [
      "822152\n",
      "{'dropout': None,\n",
      " 'last_activation': None,\n",
      " 'max_bound': None,\n",
      " 'min_bound': None,\n",
      " 'num_blocks': 2,\n",
      " 'num_classes': 8,\n",
      " 'num_initial_features': 512,\n",
      " 'num_residuals_per_block': 1,\n",
      " 'only_MLP': True}\n"
     ]
    },
    {
     "output_type": "execute_result",
     "data": {
      "text/plain": [
       "ResMLP(\n",
       "  (blocks): Sequential(\n",
       "    (0): Residual(\n",
       "      (linear1): Linear(in_features=512, out_features=512, bias=True)\n",
       "      (relu1): ReLU()\n",
       "      (linear2): Linear(in_features=512, out_features=512, bias=True)\n",
       "      (relu2): ReLU()\n",
       "    )\n",
       "    (1): DownSample(\n",
       "      (linear): Linear(in_features=512, out_features=256, bias=True)\n",
       "      (relu): ReLU()\n",
       "    )\n",
       "    (2): Residual(\n",
       "      (linear1): Linear(in_features=256, out_features=256, bias=True)\n",
       "      (relu1): ReLU()\n",
       "      (linear2): Linear(in_features=256, out_features=256, bias=True)\n",
       "      (relu2): ReLU()\n",
       "    )\n",
       "    (3): DownSample(\n",
       "      (linear): Linear(in_features=256, out_features=128, bias=True)\n",
       "      (relu): ReLU()\n",
       "    )\n",
       "    (4): Linear(in_features=128, out_features=8, bias=True)\n",
       "  )\n",
       ")"
      ]
     },
     "metadata": {},
     "execution_count": 5
    }
   ],
   "metadata": {
    "tags": []
   }
  },
  {
   "cell_type": "markdown",
   "source": [
    "## MLP with IC, 101 class age"
   ],
   "metadata": {}
  },
  {
   "cell_type": "code",
   "execution_count": 6,
   "source": [
    "config_path = './training-results/models/ResMLP/0722_102338/config.json'\n",
    "config = read_json(config_path)\n",
    "\n",
    "model = ResMLP(**config['arch']['args'])\n",
    "pprint(sum(p.numel() for p in model.parameters()))\n",
    "pprint(config['arch']['args'])\n",
    "model"
   ],
   "outputs": [
    {
     "output_type": "stream",
     "name": "stdout",
     "text": [
      "2266725\n",
      "{'dropout': 0.2,\n",
      " 'last_activation': None,\n",
      " 'max_bound': None,\n",
      " 'min_bound': None,\n",
      " 'num_blocks': 0,\n",
      " 'num_classes': 101,\n",
      " 'num_initial_features': 512,\n",
      " 'num_residuals_per_block': 4,\n",
      " 'only_MLP': False}\n"
     ]
    },
    {
     "output_type": "execute_result",
     "data": {
      "text/plain": [
       "ResMLP(\n",
       "  (blocks): Sequential(\n",
       "    (0): Residual(\n",
       "      (linear1): Linear(in_features=512, out_features=512, bias=True)\n",
       "      (relu1): ReLU()\n",
       "      (norm_layer2): BatchNorm1d(512, eps=1e-05, momentum=0.1, affine=True, track_running_stats=True)\n",
       "      (dropout2): Dropout(p=0.2, inplace=False)\n",
       "      (linear2): Linear(in_features=512, out_features=512, bias=True)\n",
       "      (relu2): ReLU()\n",
       "    )\n",
       "    (1): Residual(\n",
       "      (norm_layer1): BatchNorm1d(512, eps=1e-05, momentum=0.1, affine=True, track_running_stats=True)\n",
       "      (dropout1): Dropout(p=0.2, inplace=False)\n",
       "      (linear1): Linear(in_features=512, out_features=512, bias=True)\n",
       "      (relu1): ReLU()\n",
       "      (norm_layer2): BatchNorm1d(512, eps=1e-05, momentum=0.1, affine=True, track_running_stats=True)\n",
       "      (dropout2): Dropout(p=0.2, inplace=False)\n",
       "      (linear2): Linear(in_features=512, out_features=512, bias=True)\n",
       "      (relu2): ReLU()\n",
       "    )\n",
       "    (2): Residual(\n",
       "      (norm_layer1): BatchNorm1d(512, eps=1e-05, momentum=0.1, affine=True, track_running_stats=True)\n",
       "      (dropout1): Dropout(p=0.2, inplace=False)\n",
       "      (linear1): Linear(in_features=512, out_features=512, bias=True)\n",
       "      (relu1): ReLU()\n",
       "      (norm_layer2): BatchNorm1d(512, eps=1e-05, momentum=0.1, affine=True, track_running_stats=True)\n",
       "      (dropout2): Dropout(p=0.2, inplace=False)\n",
       "      (linear2): Linear(in_features=512, out_features=512, bias=True)\n",
       "      (relu2): ReLU()\n",
       "    )\n",
       "    (3): Residual(\n",
       "      (norm_layer1): BatchNorm1d(512, eps=1e-05, momentum=0.1, affine=True, track_running_stats=True)\n",
       "      (dropout1): Dropout(p=0.2, inplace=False)\n",
       "      (linear1): Linear(in_features=512, out_features=512, bias=True)\n",
       "      (relu1): ReLU()\n",
       "      (norm_layer2): BatchNorm1d(512, eps=1e-05, momentum=0.1, affine=True, track_running_stats=True)\n",
       "      (dropout2): Dropout(p=0.2, inplace=False)\n",
       "      (linear2): Linear(in_features=512, out_features=512, bias=True)\n",
       "      (relu2): ReLU()\n",
       "    )\n",
       "    (4): DownSample(\n",
       "      (norm_layer): BatchNorm1d(512, eps=1e-05, momentum=0.1, affine=True, track_running_stats=True)\n",
       "      (dropout): Dropout(p=0.2, inplace=False)\n",
       "      (linear): Linear(in_features=512, out_features=256, bias=True)\n",
       "      (relu): ReLU()\n",
       "    )\n",
       "    (5): Linear(in_features=256, out_features=101, bias=True)\n",
       "  )\n",
       ")"
      ]
     },
     "metadata": {},
     "execution_count": 6
    }
   ],
   "metadata": {}
  },
  {
   "cell_type": "markdown",
   "source": [
    "## plain MLP, 101 class age"
   ],
   "metadata": {}
  },
  {
   "cell_type": "code",
   "execution_count": 7,
   "source": [
    "config_path = './training-results/models/ResMLP/0723_001214/config.json'\n",
    "config = read_json(config_path)\n",
    "\n",
    "model = ResMLP(**config['arch']['args'])\n",
    "pprint(sum(p.numel() for p in model.parameters()))\n",
    "pprint(config['arch']['args'])\n",
    "model"
   ],
   "outputs": [
    {
     "output_type": "stream",
     "name": "stdout",
     "text": [
      "834149\n",
      "{'dropout': None,\n",
      " 'last_activation': None,\n",
      " 'max_bound': None,\n",
      " 'min_bound': None,\n",
      " 'num_blocks': 2,\n",
      " 'num_classes': 101,\n",
      " 'num_initial_features': 512,\n",
      " 'num_residuals_per_block': 1,\n",
      " 'only_MLP': True}\n"
     ]
    },
    {
     "output_type": "execute_result",
     "data": {
      "text/plain": [
       "ResMLP(\n",
       "  (blocks): Sequential(\n",
       "    (0): Residual(\n",
       "      (linear1): Linear(in_features=512, out_features=512, bias=True)\n",
       "      (relu1): ReLU()\n",
       "      (linear2): Linear(in_features=512, out_features=512, bias=True)\n",
       "      (relu2): ReLU()\n",
       "    )\n",
       "    (1): DownSample(\n",
       "      (linear): Linear(in_features=512, out_features=256, bias=True)\n",
       "      (relu): ReLU()\n",
       "    )\n",
       "    (2): Residual(\n",
       "      (linear1): Linear(in_features=256, out_features=256, bias=True)\n",
       "      (relu1): ReLU()\n",
       "      (linear2): Linear(in_features=256, out_features=256, bias=True)\n",
       "      (relu2): ReLU()\n",
       "    )\n",
       "    (3): DownSample(\n",
       "      (linear): Linear(in_features=256, out_features=128, bias=True)\n",
       "      (relu): ReLU()\n",
       "    )\n",
       "    (4): Linear(in_features=128, out_features=101, bias=True)\n",
       "  )\n",
       ")"
      ]
     },
     "metadata": {},
     "execution_count": 7
    }
   ],
   "metadata": {}
  },
  {
   "cell_type": "code",
   "execution_count": null,
   "source": [],
   "outputs": [],
   "metadata": {}
  }
 ],
 "metadata": {
  "kernelspec": {
   "name": "python3",
   "display_name": "Python 3.7.11 64-bit ('dev-python3.7': virtualenv)"
  },
  "language_info": {
   "codemirror_mode": {
    "name": "ipython",
    "version": 3
   },
   "file_extension": ".py",
   "mimetype": "text/x-python",
   "name": "python",
   "nbconvert_exporter": "python",
   "pygments_lexer": "ipython3",
   "version": "3.7.11"
  },
  "interpreter": {
   "hash": "d5b36006495443554c8f0b17d9dc9f4d7cde294ee6cd3212b90a3ec2903a7e92"
  }
 },
 "nbformat": 4,
 "nbformat_minor": 5
}