{
 "cells": [
  {
   "cell_type": "code",
   "execution_count": 1,
   "id": "1869bd49-20ad-46ec-ae04-09c4de950794",
   "metadata": {},
   "outputs": [],
   "source": [
    "from model.model import ResMLP\n",
    "import json\n",
    "\n",
    "def read_json(path):\n",
    "    with open(path, 'r') as stream:\n",
    "        loaded = json.load(stream)\n",
    "    return loaded"
   ]
  },
  {
   "cell_type": "markdown",
   "id": "eb885eee-28b6-4b5f-9995-889ffd74227b",
   "metadata": {},
   "source": [
    "## MLP with IC, 2 class gender"
   ]
  },
  {
   "cell_type": "code",
   "execution_count": 2,
   "id": "0f6026c7-c952-46ed-8147-6f2f430a40ef",
   "metadata": {},
   "outputs": [
    {
     "name": "stdout",
     "output_type": "stream",
     "text": [
      "1713922\n"
     ]
    },
    {
     "data": {
      "text/plain": [
       "ResMLP(\n",
       "  (blocks): Sequential(\n",
       "    (0): Residual(\n",
       "      (linear1): Linear(in_features=512, out_features=512, bias=True)\n",
       "      (relu1): ReLU()\n",
       "      (norm_layer2): BatchNorm1d(512, eps=1e-05, momentum=0.1, affine=True, track_running_stats=True)\n",
       "      (dropout2): Dropout(p=0.5, inplace=False)\n",
       "      (linear2): Linear(in_features=512, out_features=512, bias=True)\n",
       "      (relu2): ReLU()\n",
       "    )\n",
       "    (1): Residual(\n",
       "      (norm_layer1): BatchNorm1d(512, eps=1e-05, momentum=0.1, affine=True, track_running_stats=True)\n",
       "      (dropout1): Dropout(p=0.5, inplace=False)\n",
       "      (linear1): Linear(in_features=512, out_features=512, bias=True)\n",
       "      (relu1): ReLU()\n",
       "      (norm_layer2): BatchNorm1d(512, eps=1e-05, momentum=0.1, affine=True, track_running_stats=True)\n",
       "      (dropout2): Dropout(p=0.5, inplace=False)\n",
       "      (linear2): Linear(in_features=512, out_features=512, bias=True)\n",
       "      (relu2): ReLU()\n",
       "    )\n",
       "    (2): Residual(\n",
       "      (norm_layer1): BatchNorm1d(512, eps=1e-05, momentum=0.1, affine=True, track_running_stats=True)\n",
       "      (dropout1): Dropout(p=0.5, inplace=False)\n",
       "      (linear1): Linear(in_features=512, out_features=512, bias=True)\n",
       "      (relu1): ReLU()\n",
       "      (norm_layer2): BatchNorm1d(512, eps=1e-05, momentum=0.1, affine=True, track_running_stats=True)\n",
       "      (dropout2): Dropout(p=0.5, inplace=False)\n",
       "      (linear2): Linear(in_features=512, out_features=512, bias=True)\n",
       "      (relu2): ReLU()\n",
       "    )\n",
       "    (3): DownSample(\n",
       "      (norm_layer): BatchNorm1d(512, eps=1e-05, momentum=0.1, affine=True, track_running_stats=True)\n",
       "      (dropout): Dropout(p=0.5, inplace=False)\n",
       "      (linear): Linear(in_features=512, out_features=256, bias=True)\n",
       "      (relu): ReLU()\n",
       "    )\n",
       "    (4): Linear(in_features=256, out_features=2, bias=True)\n",
       "  )\n",
       ")"
      ]
     },
     "execution_count": 2,
     "metadata": {},
     "output_type": "execute_result"
    }
   ],
   "source": [
    "config_path = './training-results/models/ResMLP/0721_112606/config.json'\n",
    "config = read_json(config_path)\n",
    "\n",
    "model = ResMLP(**config['arch']['args'])\n",
    "print(sum(p.numel() for p in model.parameters()))\n",
    "model"
   ]
  },
  {
   "cell_type": "markdown",
   "id": "96c7d978-b9b0-4b18-94d8-7b1e93227469",
   "metadata": {},
   "source": [
    "## Pure MLP, 2 class gender"
   ]
  },
  {
   "cell_type": "code",
   "execution_count": 3,
   "id": "bc60b1a5-2d05-4278-bafe-6f41abaeae36",
   "metadata": {
    "tags": []
   },
   "outputs": [
    {
     "name": "stdout",
     "output_type": "stream",
     "text": [
      "872866\n"
     ]
    },
    {
     "data": {
      "text/plain": [
       "ResMLP(\n",
       "  (blocks): Sequential(\n",
       "    (0): Residual(\n",
       "      (linear1): Linear(in_features=512, out_features=512, bias=True)\n",
       "      (relu1): ReLU()\n",
       "      (linear2): Linear(in_features=512, out_features=512, bias=True)\n",
       "      (relu2): ReLU()\n",
       "    )\n",
       "    (1): DownSample(\n",
       "      (linear): Linear(in_features=512, out_features=256, bias=True)\n",
       "      (relu): ReLU()\n",
       "    )\n",
       "    (2): Residual(\n",
       "      (linear1): Linear(in_features=256, out_features=256, bias=True)\n",
       "      (relu1): ReLU()\n",
       "      (linear2): Linear(in_features=256, out_features=256, bias=True)\n",
       "      (relu2): ReLU()\n",
       "    )\n",
       "    (3): DownSample(\n",
       "      (linear): Linear(in_features=256, out_features=128, bias=True)\n",
       "      (relu): ReLU()\n",
       "    )\n",
       "    (4): Residual(\n",
       "      (linear1): Linear(in_features=128, out_features=128, bias=True)\n",
       "      (relu1): ReLU()\n",
       "      (linear2): Linear(in_features=128, out_features=128, bias=True)\n",
       "      (relu2): ReLU()\n",
       "    )\n",
       "    (5): DownSample(\n",
       "      (linear): Linear(in_features=128, out_features=64, bias=True)\n",
       "      (relu): ReLU()\n",
       "    )\n",
       "    (6): Residual(\n",
       "      (linear1): Linear(in_features=64, out_features=64, bias=True)\n",
       "      (relu1): ReLU()\n",
       "      (linear2): Linear(in_features=64, out_features=64, bias=True)\n",
       "      (relu2): ReLU()\n",
       "    )\n",
       "    (7): DownSample(\n",
       "      (linear): Linear(in_features=64, out_features=32, bias=True)\n",
       "      (relu): ReLU()\n",
       "    )\n",
       "    (8): Linear(in_features=32, out_features=2, bias=True)\n",
       "  )\n",
       ")"
      ]
     },
     "execution_count": 3,
     "metadata": {},
     "output_type": "execute_result"
    }
   ],
   "source": [
    "config_path = './training-results/models/ResMLP/0722_211202/config.json'\n",
    "config = read_json(config_path)\n",
    "\n",
    "model = ResMLP(**config['arch']['args'])\n",
    "print(sum(p.numel() for p in model.parameters()))\n",
    "model"
   ]
  },
  {
   "cell_type": "markdown",
   "id": "1d018eb8-1b0d-474b-a0e6-26fd5b6c2390",
   "metadata": {},
   "source": [
    "## MLP with IC, 8 class age"
   ]
  },
  {
   "cell_type": "code",
   "execution_count": 4,
   "id": "fd3b8a2f-8ae2-4659-9c76-b3ddbaddf50d",
   "metadata": {
    "tags": []
   },
   "outputs": [
    {
     "name": "stdout",
     "output_type": "stream",
     "text": [
      "2242824\n"
     ]
    },
    {
     "data": {
      "text/plain": [
       "ResMLP(\n",
       "  (blocks): Sequential(\n",
       "    (0): Residual(\n",
       "      (linear1): Linear(in_features=512, out_features=512, bias=True)\n",
       "      (relu1): ReLU()\n",
       "      (norm_layer2): BatchNorm1d(512, eps=1e-05, momentum=0.1, affine=True, track_running_stats=True)\n",
       "      (dropout2): Dropout(p=0.2, inplace=False)\n",
       "      (linear2): Linear(in_features=512, out_features=512, bias=True)\n",
       "      (relu2): ReLU()\n",
       "    )\n",
       "    (1): Residual(\n",
       "      (norm_layer1): BatchNorm1d(512, eps=1e-05, momentum=0.1, affine=True, track_running_stats=True)\n",
       "      (dropout1): Dropout(p=0.2, inplace=False)\n",
       "      (linear1): Linear(in_features=512, out_features=512, bias=True)\n",
       "      (relu1): ReLU()\n",
       "      (norm_layer2): BatchNorm1d(512, eps=1e-05, momentum=0.1, affine=True, track_running_stats=True)\n",
       "      (dropout2): Dropout(p=0.2, inplace=False)\n",
       "      (linear2): Linear(in_features=512, out_features=512, bias=True)\n",
       "      (relu2): ReLU()\n",
       "    )\n",
       "    (2): Residual(\n",
       "      (norm_layer1): BatchNorm1d(512, eps=1e-05, momentum=0.1, affine=True, track_running_stats=True)\n",
       "      (dropout1): Dropout(p=0.2, inplace=False)\n",
       "      (linear1): Linear(in_features=512, out_features=512, bias=True)\n",
       "      (relu1): ReLU()\n",
       "      (norm_layer2): BatchNorm1d(512, eps=1e-05, momentum=0.1, affine=True, track_running_stats=True)\n",
       "      (dropout2): Dropout(p=0.2, inplace=False)\n",
       "      (linear2): Linear(in_features=512, out_features=512, bias=True)\n",
       "      (relu2): ReLU()\n",
       "    )\n",
       "    (3): Residual(\n",
       "      (norm_layer1): BatchNorm1d(512, eps=1e-05, momentum=0.1, affine=True, track_running_stats=True)\n",
       "      (dropout1): Dropout(p=0.2, inplace=False)\n",
       "      (linear1): Linear(in_features=512, out_features=512, bias=True)\n",
       "      (relu1): ReLU()\n",
       "      (norm_layer2): BatchNorm1d(512, eps=1e-05, momentum=0.1, affine=True, track_running_stats=True)\n",
       "      (dropout2): Dropout(p=0.2, inplace=False)\n",
       "      (linear2): Linear(in_features=512, out_features=512, bias=True)\n",
       "      (relu2): ReLU()\n",
       "    )\n",
       "    (4): DownSample(\n",
       "      (norm_layer): BatchNorm1d(512, eps=1e-05, momentum=0.1, affine=True, track_running_stats=True)\n",
       "      (dropout): Dropout(p=0.2, inplace=False)\n",
       "      (linear): Linear(in_features=512, out_features=256, bias=True)\n",
       "      (relu): ReLU()\n",
       "    )\n",
       "    (5): Linear(in_features=256, out_features=8, bias=True)\n",
       "  )\n",
       ")"
      ]
     },
     "execution_count": 4,
     "metadata": {},
     "output_type": "execute_result"
    }
   ],
   "source": [
    "config_path = './training-results/models/ResMLP/0721_145736/config.json'\n",
    "config = read_json(config_path)\n",
    "\n",
    "model = ResMLP(**config['arch']['args'])\n",
    "print(sum(p.numel() for p in model.parameters()))\n",
    "model"
   ]
  },
  {
   "cell_type": "markdown",
   "id": "7df12eb4-7963-4ca5-ba94-8f185a6146e9",
   "metadata": {},
   "source": [
    "## Pure MLP, 8 class age"
   ]
  },
  {
   "cell_type": "code",
   "execution_count": 5,
   "id": "b7b3c18e-d4f8-4e69-8d05-5c69ee490a46",
   "metadata": {
    "tags": []
   },
   "outputs": [
    {
     "name": "stdout",
     "output_type": "stream",
     "text": [
      "822152\n"
     ]
    },
    {
     "data": {
      "text/plain": [
       "ResMLP(\n",
       "  (blocks): Sequential(\n",
       "    (0): Residual(\n",
       "      (linear1): Linear(in_features=512, out_features=512, bias=True)\n",
       "      (relu1): ReLU()\n",
       "      (linear2): Linear(in_features=512, out_features=512, bias=True)\n",
       "      (relu2): ReLU()\n",
       "    )\n",
       "    (1): DownSample(\n",
       "      (linear): Linear(in_features=512, out_features=256, bias=True)\n",
       "      (relu): ReLU()\n",
       "    )\n",
       "    (2): Residual(\n",
       "      (linear1): Linear(in_features=256, out_features=256, bias=True)\n",
       "      (relu1): ReLU()\n",
       "      (linear2): Linear(in_features=256, out_features=256, bias=True)\n",
       "      (relu2): ReLU()\n",
       "    )\n",
       "    (3): DownSample(\n",
       "      (linear): Linear(in_features=256, out_features=128, bias=True)\n",
       "      (relu): ReLU()\n",
       "    )\n",
       "    (4): Linear(in_features=128, out_features=8, bias=True)\n",
       "  )\n",
       ")"
      ]
     },
     "execution_count": 5,
     "metadata": {},
     "output_type": "execute_result"
    }
   ],
   "source": [
    "config_path = './training-results/models/ResMLP/0722_230719/config.json'\n",
    "config = read_json(config_path)\n",
    "\n",
    "model = ResMLP(**config['arch']['args'])\n",
    "print(sum(p.numel() for p in model.parameters()))\n",
    "model"
   ]
  },
  {
   "cell_type": "markdown",
   "id": "e4f02829-6081-40cb-98f8-f443e9c25374",
   "metadata": {},
   "source": [
    "## MLP with IC, 101 class age"
   ]
  },
  {
   "cell_type": "code",
   "execution_count": 6,
   "id": "051ebd6e-8126-4206-93a9-ad5e0f7d83b8",
   "metadata": {},
   "outputs": [
    {
     "name": "stdout",
     "output_type": "stream",
     "text": [
      "2266725\n"
     ]
    },
    {
     "data": {
      "text/plain": [
       "ResMLP(\n",
       "  (blocks): Sequential(\n",
       "    (0): Residual(\n",
       "      (linear1): Linear(in_features=512, out_features=512, bias=True)\n",
       "      (relu1): ReLU()\n",
       "      (norm_layer2): BatchNorm1d(512, eps=1e-05, momentum=0.1, affine=True, track_running_stats=True)\n",
       "      (dropout2): Dropout(p=0.2, inplace=False)\n",
       "      (linear2): Linear(in_features=512, out_features=512, bias=True)\n",
       "      (relu2): ReLU()\n",
       "    )\n",
       "    (1): Residual(\n",
       "      (norm_layer1): BatchNorm1d(512, eps=1e-05, momentum=0.1, affine=True, track_running_stats=True)\n",
       "      (dropout1): Dropout(p=0.2, inplace=False)\n",
       "      (linear1): Linear(in_features=512, out_features=512, bias=True)\n",
       "      (relu1): ReLU()\n",
       "      (norm_layer2): BatchNorm1d(512, eps=1e-05, momentum=0.1, affine=True, track_running_stats=True)\n",
       "      (dropout2): Dropout(p=0.2, inplace=False)\n",
       "      (linear2): Linear(in_features=512, out_features=512, bias=True)\n",
       "      (relu2): ReLU()\n",
       "    )\n",
       "    (2): Residual(\n",
       "      (norm_layer1): BatchNorm1d(512, eps=1e-05, momentum=0.1, affine=True, track_running_stats=True)\n",
       "      (dropout1): Dropout(p=0.2, inplace=False)\n",
       "      (linear1): Linear(in_features=512, out_features=512, bias=True)\n",
       "      (relu1): ReLU()\n",
       "      (norm_layer2): BatchNorm1d(512, eps=1e-05, momentum=0.1, affine=True, track_running_stats=True)\n",
       "      (dropout2): Dropout(p=0.2, inplace=False)\n",
       "      (linear2): Linear(in_features=512, out_features=512, bias=True)\n",
       "      (relu2): ReLU()\n",
       "    )\n",
       "    (3): Residual(\n",
       "      (norm_layer1): BatchNorm1d(512, eps=1e-05, momentum=0.1, affine=True, track_running_stats=True)\n",
       "      (dropout1): Dropout(p=0.2, inplace=False)\n",
       "      (linear1): Linear(in_features=512, out_features=512, bias=True)\n",
       "      (relu1): ReLU()\n",
       "      (norm_layer2): BatchNorm1d(512, eps=1e-05, momentum=0.1, affine=True, track_running_stats=True)\n",
       "      (dropout2): Dropout(p=0.2, inplace=False)\n",
       "      (linear2): Linear(in_features=512, out_features=512, bias=True)\n",
       "      (relu2): ReLU()\n",
       "    )\n",
       "    (4): DownSample(\n",
       "      (norm_layer): BatchNorm1d(512, eps=1e-05, momentum=0.1, affine=True, track_running_stats=True)\n",
       "      (dropout): Dropout(p=0.2, inplace=False)\n",
       "      (linear): Linear(in_features=512, out_features=256, bias=True)\n",
       "      (relu): ReLU()\n",
       "    )\n",
       "    (5): Linear(in_features=256, out_features=101, bias=True)\n",
       "  )\n",
       ")"
      ]
     },
     "execution_count": 6,
     "metadata": {},
     "output_type": "execute_result"
    }
   ],
   "source": [
    "config_path = './training-results/models/ResMLP/0722_102338/config.json'\n",
    "config = read_json(config_path)\n",
    "\n",
    "model = ResMLP(**config['arch']['args'])\n",
    "print(sum(p.numel() for p in model.parameters()))\n",
    "model"
   ]
  },
  {
   "cell_type": "markdown",
   "id": "0f32f75e-29c7-436b-ba30-4567a5a2a5cd",
   "metadata": {},
   "source": [
    "## Pure MLP, 101 class age"
   ]
  },
  {
   "cell_type": "code",
   "execution_count": 7,
   "id": "19f672dd-b537-49a7-a04c-9f6aec6d4bc5",
   "metadata": {},
   "outputs": [
    {
     "name": "stdout",
     "output_type": "stream",
     "text": [
      "834149\n"
     ]
    },
    {
     "data": {
      "text/plain": [
       "ResMLP(\n",
       "  (blocks): Sequential(\n",
       "    (0): Residual(\n",
       "      (linear1): Linear(in_features=512, out_features=512, bias=True)\n",
       "      (relu1): ReLU()\n",
       "      (linear2): Linear(in_features=512, out_features=512, bias=True)\n",
       "      (relu2): ReLU()\n",
       "    )\n",
       "    (1): DownSample(\n",
       "      (linear): Linear(in_features=512, out_features=256, bias=True)\n",
       "      (relu): ReLU()\n",
       "    )\n",
       "    (2): Residual(\n",
       "      (linear1): Linear(in_features=256, out_features=256, bias=True)\n",
       "      (relu1): ReLU()\n",
       "      (linear2): Linear(in_features=256, out_features=256, bias=True)\n",
       "      (relu2): ReLU()\n",
       "    )\n",
       "    (3): DownSample(\n",
       "      (linear): Linear(in_features=256, out_features=128, bias=True)\n",
       "      (relu): ReLU()\n",
       "    )\n",
       "    (4): Linear(in_features=128, out_features=101, bias=True)\n",
       "  )\n",
       ")"
      ]
     },
     "execution_count": 7,
     "metadata": {},
     "output_type": "execute_result"
    }
   ],
   "source": [
    "config_path = './training-results/models/ResMLP/0723_001214/config.json'\n",
    "config = read_json(config_path)\n",
    "\n",
    "model = ResMLP(**config['arch']['args'])\n",
    "print(sum(p.numel() for p in model.parameters()))\n",
    "model"
   ]
  },
  {
   "cell_type": "code",
   "execution_count": null,
   "id": "a04b287c-f0ee-4a4d-8e9c-5a1d04aafd69",
   "metadata": {},
   "outputs": [],
   "source": []
  }
 ],
 "metadata": {
  "kernelspec": {
   "display_name": "Python 3",
   "language": "python",
   "name": "python3"
  },
  "language_info": {
   "codemirror_mode": {
    "name": "ipython",
    "version": 3
   },
   "file_extension": ".py",
   "mimetype": "text/x-python",
   "name": "python",
   "nbconvert_exporter": "python",
   "pygments_lexer": "ipython3",
   "version": "3.7.11"
  }
 },
 "nbformat": 4,
 "nbformat_minor": 5
}
